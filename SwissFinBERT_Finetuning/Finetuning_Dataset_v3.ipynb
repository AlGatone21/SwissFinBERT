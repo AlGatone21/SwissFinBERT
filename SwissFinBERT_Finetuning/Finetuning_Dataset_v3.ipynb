{
 "cells": [
  {
   "cell_type": "markdown",
   "metadata": {},
   "source": [
    "### Finetuning Dataset Preparation"
   ]
  },
  {
   "cell_type": "code",
   "execution_count": 1,
   "metadata": {},
   "outputs": [],
   "source": [
    "from tqdm import tqdm\n",
    "import pandas as pd\n",
    "from openai import OpenAI"
   ]
  },
  {
   "cell_type": "code",
   "execution_count": null,
   "metadata": {},
   "outputs": [],
   "source": [
    "df = pd.read_excel(\"Master_Dataset_v15.xlsx\")"
   ]
  },
  {
   "cell_type": "code",
   "execution_count": 8,
   "metadata": {},
   "outputs": [
    {
     "data": {
      "text/html": [
       "<div>\n",
       "<style scoped>\n",
       "    .dataframe tbody tr th:only-of-type {\n",
       "        vertical-align: middle;\n",
       "    }\n",
       "\n",
       "    .dataframe tbody tr th {\n",
       "        vertical-align: top;\n",
       "    }\n",
       "\n",
       "    .dataframe thead th {\n",
       "        text-align: right;\n",
       "    }\n",
       "</style>\n",
       "<table border=\"1\" class=\"dataframe\">\n",
       "  <thead>\n",
       "    <tr style=\"text-align: right;\">\n",
       "      <th></th>\n",
       "      <th>Title</th>\n",
       "    </tr>\n",
       "  </thead>\n",
       "  <tbody>\n",
       "    <tr>\n",
       "      <th>0</th>\n",
       "      <td>UBS: Ospel verzichtet auf über 20 Millionen Fr...</td>\n",
       "    </tr>\n",
       "    <tr>\n",
       "      <th>1</th>\n",
       "      <td>Danuser im Dienst der Deutschen Bank - finews.ch</td>\n",
       "    </tr>\n",
       "    <tr>\n",
       "      <th>2</th>\n",
       "      <td>Banque Bonhôte als Krisengewinnerin - finews.ch</td>\n",
       "    </tr>\n",
       "    <tr>\n",
       "      <th>3</th>\n",
       "      <td>Bénédict Hentsch trennt sich von Hedge-Fund - ...</td>\n",
       "    </tr>\n",
       "    <tr>\n",
       "      <th>4</th>\n",
       "      <td>Helvetia: Vierzehn neue Mitglieder der Direkti...</td>\n",
       "    </tr>\n",
       "  </tbody>\n",
       "</table>\n",
       "</div>"
      ],
      "text/plain": [
       "                                               Title\n",
       "0  UBS: Ospel verzichtet auf über 20 Millionen Fr...\n",
       "1   Danuser im Dienst der Deutschen Bank - finews.ch\n",
       "2    Banque Bonhôte als Krisengewinnerin - finews.ch\n",
       "3  Bénédict Hentsch trennt sich von Hedge-Fund - ...\n",
       "4  Helvetia: Vierzehn neue Mitglieder der Direkti..."
      ]
     },
     "execution_count": 8,
     "metadata": {},
     "output_type": "execute_result"
    }
   ],
   "source": [
    "df = df[[\"Title\"]]\n",
    "df.dropna(inplace=True)\n",
    "df.head()"
   ]
  },
  {
   "cell_type": "markdown",
   "metadata": {},
   "source": [
    "### GPT Labelling\n",
    "\n",
    "https://arxiv.org/pdf/2303.15056"
   ]
  },
  {
   "cell_type": "code",
   "execution_count": null,
   "metadata": {},
   "outputs": [],
   "source": [
    "client = OpenAI(api_key=\"insert your api key here\")"
   ]
  },
  {
   "cell_type": "code",
   "execution_count": 4,
   "metadata": {},
   "outputs": [
    {
     "data": {
      "text/html": [
       "<div>\n",
       "<style scoped>\n",
       "    .dataframe tbody tr th:only-of-type {\n",
       "        vertical-align: middle;\n",
       "    }\n",
       "\n",
       "    .dataframe tbody tr th {\n",
       "        vertical-align: top;\n",
       "    }\n",
       "\n",
       "    .dataframe thead th {\n",
       "        text-align: right;\n",
       "    }\n",
       "</style>\n",
       "<table border=\"1\" class=\"dataframe\">\n",
       "  <thead>\n",
       "    <tr style=\"text-align: right;\">\n",
       "      <th></th>\n",
       "      <th>Title</th>\n",
       "      <th>GPT3_5_label</th>\n",
       "    </tr>\n",
       "  </thead>\n",
       "  <tbody>\n",
       "    <tr>\n",
       "      <th>0</th>\n",
       "      <td>UBS: Ospel verzichtet auf über 20 Millionen Fr...</td>\n",
       "      <td>SELL</td>\n",
       "    </tr>\n",
       "    <tr>\n",
       "      <th>1</th>\n",
       "      <td>Danuser im Dienst der Deutschen Bank - finews.ch</td>\n",
       "      <td>HOLD</td>\n",
       "    </tr>\n",
       "    <tr>\n",
       "      <th>2</th>\n",
       "      <td>Banque Bonhôte als Krisengewinnerin - finews.ch</td>\n",
       "      <td>BUY</td>\n",
       "    </tr>\n",
       "    <tr>\n",
       "      <th>3</th>\n",
       "      <td>Bénédict Hentsch trennt sich von Hedge-Fund - ...</td>\n",
       "      <td>SELL</td>\n",
       "    </tr>\n",
       "    <tr>\n",
       "      <th>4</th>\n",
       "      <td>Helvetia: Vierzehn neue Mitglieder der Direkti...</td>\n",
       "      <td>HOLD</td>\n",
       "    </tr>\n",
       "  </tbody>\n",
       "</table>\n",
       "</div>"
      ],
      "text/plain": [
       "                                               Title GPT3_5_label\n",
       "0  UBS: Ospel verzichtet auf über 20 Millionen Fr...         SELL\n",
       "1   Danuser im Dienst der Deutschen Bank - finews.ch         HOLD\n",
       "2    Banque Bonhôte als Krisengewinnerin - finews.ch          BUY\n",
       "3  Bénédict Hentsch trennt sich von Hedge-Fund - ...         SELL\n",
       "4  Helvetia: Vierzehn neue Mitglieder der Direkti...         HOLD"
      ]
     },
     "execution_count": 4,
     "metadata": {},
     "output_type": "execute_result"
    }
   ],
   "source": [
    "#df[\"GPT3_5_label\"] = \"pending\"\n",
    "df.head()"
   ]
  },
  {
   "cell_type": "code",
   "execution_count": 3,
   "metadata": {},
   "outputs": [],
   "source": [
    "df = pd.read_excel(\"finetuning_gpt_labelled_v22000.xlsx\")"
   ]
  },
  {
   "cell_type": "code",
   "execution_count": 17,
   "metadata": {},
   "outputs": [
    {
     "name": "stderr",
     "output_type": "stream",
     "text": [
      "100%|██████████| 27956/27956 [00:00<00:00, 156207.36it/s]\n"
     ]
    }
   ],
   "source": [
    "for i in tqdm(range(len(df.Title))):\n",
    "    if df.GPT3_5_label[i] == \"pending\":\n",
    "        \n",
    "        try:\n",
    "            role = \"\"\"\n",
    "                You are a helpful financial analyst. I will provide you with a financial news article title in german and I want you to read it and give me your sentiment about it.\n",
    "                    \"\"\"\n",
    "\n",
    "            instruction= \"\"\"\n",
    "            I will provide you with a financial news article titles in german and I want you to read it and give me your sentiment about it. You should\n",
    "            express if the provided information is positive, negative or neutral for the swiss stock market. If you think that the information is positive\n",
    "            and the stock market will likely go up, I want your answer be BUY. If you think that the information is negative and the stock market will likely go down,\n",
    "            I want your answer be SELL. If you think that the information is neutral and the stock market will likely stay the same, I want your answer be HOLD.\n",
    "            In the case the information is not really relevant for the stock market, I want your answer to be HOLD.\n",
    "\n",
    "            I'am going to use this information to cluster the news articles and construct a weekly sentiment index for the swiss stock market.\n",
    "\n",
    "            I want your answer be exacly one of the following options, just one word, dont add anything else:\n",
    "\n",
    "            BUY, HOLD, SELL\n",
    "                        \"\"\"\n",
    "\n",
    "            article_text = df.Title[i]\n",
    "            completion = client.chat.completions.create(\n",
    "            model=\"gpt-3.5-turbo-0125\",\n",
    "            max_tokens=2,\n",
    "            temperature=0.0,\n",
    "            messages=[{\"role\": \"system\", \"content\": role},{\"role\": \"user\", \"content\": instruction+\" \"+article_text}])\n",
    "            if completion.choices[0].message.content in [\"BUY\", \"SELL\", \"HOLD\", \"Sell\", \"Buy\", \"Hold\", \"buy\", \"sell\", \"hold\"]:\n",
    "                df.loc[i, \"GPT3_5_label\"] = completion.choices[0].message.content\n",
    "        except:\n",
    "            pass"
   ]
  },
  {
   "cell_type": "code",
   "execution_count": 18,
   "metadata": {},
   "outputs": [],
   "source": [
    "df.to_excel(\"finetuning_gpt_labelled_vfinal.xlsx\", index=False)"
   ]
  },
  {
   "cell_type": "code",
   "execution_count": 19,
   "metadata": {},
   "outputs": [
    {
     "name": "stdout",
     "output_type": "stream",
     "text": [
      "GPT3_5_label\n",
      "HOLD    14403\n",
      "SELL     8076\n",
      "BUY      5477\n",
      "Name: count, dtype: int64\n"
     ]
    }
   ],
   "source": [
    "label_counts = df['GPT3_5_label'].value_counts()\n",
    "print(label_counts)"
   ]
  },
  {
   "cell_type": "code",
   "execution_count": 20,
   "metadata": {},
   "outputs": [
    {
     "name": "stdout",
     "output_type": "stream",
     "text": [
      "GPT3_5_label\n",
      "HOLD    5477\n",
      "BUY     5477\n",
      "SELL    5477\n",
      "Name: count, dtype: int64\n"
     ]
    }
   ],
   "source": [
    "from sklearn.utils import resample\n",
    "\n",
    "# Separate each class into different DataFrames\n",
    "df_buy = df[df['GPT3_5_label'] == 'BUY']\n",
    "df_hold = df[df['GPT3_5_label'] == 'HOLD']\n",
    "df_sell = df[df['GPT3_5_label'] == 'SELL']\n",
    "\n",
    "# Determine the minimum class count\n",
    "min_count = min(len(df_buy), len(df_hold), len(df_sell))\n",
    "\n",
    "# Resample each class to the minimum class count\n",
    "df_buy_balanced = resample(df_buy, replace=False, n_samples=min_count, random_state=42)\n",
    "df_hold_balanced = resample(df_hold, replace=False, n_samples=min_count, random_state=42)\n",
    "df_sell_balanced = resample(df_sell, replace=False, n_samples=min_count, random_state=42)\n",
    "\n",
    "# Combine the balanced DataFrames\n",
    "df_balanced = pd.concat([df_buy_balanced, df_hold_balanced, df_sell_balanced])\n",
    "\n",
    "# Shuffle the balanced DataFrame\n",
    "df_balanced = df_balanced.sample(frac=1, random_state=42).reset_index(drop=True)\n",
    "\n",
    "# Display the balanced dataset\n",
    "print(df_balanced['GPT3_5_label'].value_counts())"
   ]
  },
  {
   "cell_type": "code",
   "execution_count": 21,
   "metadata": {},
   "outputs": [],
   "source": [
    "df_balanced.to_excel(\"finetuning_gpt_labelled_vfinal_balanced.xlsx\", index=False)"
   ]
  },
  {
   "cell_type": "markdown",
   "metadata": {},
   "source": [
    "### Performance Test"
   ]
  },
  {
   "cell_type": "code",
   "execution_count": null,
   "metadata": {},
   "outputs": [],
   "source": [
    "df = pd.read_excel(\"finetuning_gpt_labelled_vfinal_balanced.xlsx\")"
   ]
  },
  {
   "cell_type": "code",
   "execution_count": 3,
   "metadata": {},
   "outputs": [
    {
     "data": {
      "text/html": [
       "<div>\n",
       "<style scoped>\n",
       "    .dataframe tbody tr th:only-of-type {\n",
       "        vertical-align: middle;\n",
       "    }\n",
       "\n",
       "    .dataframe tbody tr th {\n",
       "        vertical-align: top;\n",
       "    }\n",
       "\n",
       "    .dataframe thead th {\n",
       "        text-align: right;\n",
       "    }\n",
       "</style>\n",
       "<table border=\"1\" class=\"dataframe\">\n",
       "  <thead>\n",
       "    <tr style=\"text-align: right;\">\n",
       "      <th></th>\n",
       "      <th>Title</th>\n",
       "      <th>GPT3_5_label</th>\n",
       "    </tr>\n",
       "  </thead>\n",
       "  <tbody>\n",
       "    <tr>\n",
       "      <th>0</th>\n",
       "      <td>Privatinseln: Wo Banker ihren Bonus elegant in...</td>\n",
       "      <td>HOLD</td>\n",
       "    </tr>\n",
       "    <tr>\n",
       "      <th>1</th>\n",
       "      <td>Credit Suisse hat Lücke in der Unternehmerbank...</td>\n",
       "      <td>BUY</td>\n",
       "    </tr>\n",
       "    <tr>\n",
       "      <th>2</th>\n",
       "      <td>Weiterer Vermögensverwalter mit Finma-Lizenz -...</td>\n",
       "      <td>HOLD</td>\n",
       "    </tr>\n",
       "    <tr>\n",
       "      <th>3</th>\n",
       "      <td>Jordan: «Zentralbanken können nicht jedes Prob...</td>\n",
       "      <td>HOLD</td>\n",
       "    </tr>\n",
       "    <tr>\n",
       "      <th>4</th>\n",
       "      <td>Eklat bei BLKB-Tochter Radicant - finews.ch</td>\n",
       "      <td>SELL</td>\n",
       "    </tr>\n",
       "  </tbody>\n",
       "</table>\n",
       "</div>"
      ],
      "text/plain": [
       "                                               Title GPT3_5_label\n",
       "0  Privatinseln: Wo Banker ihren Bonus elegant in...         HOLD\n",
       "1  Credit Suisse hat Lücke in der Unternehmerbank...          BUY\n",
       "2  Weiterer Vermögensverwalter mit Finma-Lizenz -...         HOLD\n",
       "3  Jordan: «Zentralbanken können nicht jedes Prob...         HOLD\n",
       "4        Eklat bei BLKB-Tochter Radicant - finews.ch         SELL"
      ]
     },
     "execution_count": 3,
     "metadata": {},
     "output_type": "execute_result"
    }
   ],
   "source": [
    "df.head()"
   ]
  },
  {
   "cell_type": "code",
   "execution_count": null,
   "metadata": {},
   "outputs": [],
   "source": [
    "# Use a pipeline as a high-level helper\n",
    "from transformers import pipeline\n",
    "\n",
    "pipe = pipeline(\"text-classification\", model=\"AlGatone21/SwissFinBERT\", device=0)"
   ]
  },
  {
   "cell_type": "code",
   "execution_count": 6,
   "metadata": {},
   "outputs": [],
   "source": [
    "df[\"SwissFinBERT_label\"] = \"pending\""
   ]
  },
  {
   "cell_type": "code",
   "execution_count": 7,
   "metadata": {},
   "outputs": [
    {
     "name": "stderr",
     "output_type": "stream",
     "text": [
      "  0%|          | 1/16431 [00:00<1:28:35,  3.09it/s]--- Logging error ---\n",
      "Traceback (most recent call last):\n",
      "  File \"/home/zeus/miniconda3/envs/cloudspace/lib/python3.10/logging/__init__.py\", line 1100, in emit\n",
      "    msg = self.format(record)\n",
      "  File \"/home/zeus/miniconda3/envs/cloudspace/lib/python3.10/logging/__init__.py\", line 943, in format\n",
      "    return fmt.format(record)\n",
      "  File \"/home/zeus/miniconda3/envs/cloudspace/lib/python3.10/logging/__init__.py\", line 678, in format\n",
      "    record.message = record.getMessage()\n",
      "  File \"/home/zeus/miniconda3/envs/cloudspace/lib/python3.10/logging/__init__.py\", line 368, in getMessage\n",
      "    msg = msg % self.args\n",
      "TypeError: not all arguments converted during string formatting\n",
      "Call stack:\n",
      "  File \"/home/zeus/miniconda3/envs/cloudspace/lib/python3.10/runpy.py\", line 196, in _run_module_as_main\n",
      "    return _run_code(code, main_globals, None,\n",
      "  File \"/home/zeus/miniconda3/envs/cloudspace/lib/python3.10/runpy.py\", line 86, in _run_code\n",
      "    exec(code, run_globals)\n",
      "  File \"/home/zeus/miniconda3/envs/cloudspace/lib/python3.10/site-packages/ipykernel_launcher.py\", line 18, in <module>\n",
      "    app.launch_new_instance()\n",
      "  File \"/home/zeus/miniconda3/envs/cloudspace/lib/python3.10/site-packages/traitlets/config/application.py\", line 1075, in launch_instance\n",
      "    app.start()\n",
      "  File \"/home/zeus/miniconda3/envs/cloudspace/lib/python3.10/site-packages/ipykernel/kernelapp.py\", line 739, in start\n",
      "    self.io_loop.start()\n",
      "  File \"/home/zeus/miniconda3/envs/cloudspace/lib/python3.10/site-packages/tornado/platform/asyncio.py\", line 205, in start\n",
      "    self.asyncio_loop.run_forever()\n",
      "  File \"/home/zeus/miniconda3/envs/cloudspace/lib/python3.10/asyncio/base_events.py\", line 603, in run_forever\n",
      "    self._run_once()\n",
      "  File \"/home/zeus/miniconda3/envs/cloudspace/lib/python3.10/asyncio/base_events.py\", line 1909, in _run_once\n",
      "    handle._run()\n",
      "  File \"/home/zeus/miniconda3/envs/cloudspace/lib/python3.10/asyncio/events.py\", line 80, in _run\n",
      "    self._context.run(self._callback, *self._args)\n",
      "  File \"/home/zeus/miniconda3/envs/cloudspace/lib/python3.10/site-packages/ipykernel/kernelbase.py\", line 545, in dispatch_queue\n",
      "    await self.process_one()\n",
      "  File \"/home/zeus/miniconda3/envs/cloudspace/lib/python3.10/site-packages/ipykernel/kernelbase.py\", line 534, in process_one\n",
      "    await dispatch(*args)\n",
      "  File \"/home/zeus/miniconda3/envs/cloudspace/lib/python3.10/site-packages/ipykernel/kernelbase.py\", line 437, in dispatch_shell\n",
      "    await result\n",
      "  File \"/home/zeus/miniconda3/envs/cloudspace/lib/python3.10/site-packages/ipykernel/ipkernel.py\", line 362, in execute_request\n",
      "    await super().execute_request(stream, ident, parent)\n",
      "  File \"/home/zeus/miniconda3/envs/cloudspace/lib/python3.10/site-packages/ipykernel/kernelbase.py\", line 778, in execute_request\n",
      "    reply_content = await reply_content\n",
      "  File \"/home/zeus/miniconda3/envs/cloudspace/lib/python3.10/site-packages/ipykernel/ipkernel.py\", line 449, in do_execute\n",
      "    res = shell.run_cell(\n",
      "  File \"/home/zeus/miniconda3/envs/cloudspace/lib/python3.10/site-packages/ipykernel/zmqshell.py\", line 549, in run_cell\n",
      "    return super().run_cell(*args, **kwargs)\n",
      "  File \"/home/zeus/miniconda3/envs/cloudspace/lib/python3.10/site-packages/IPython/core/interactiveshell.py\", line 3075, in run_cell\n",
      "    result = self._run_cell(\n",
      "  File \"/home/zeus/miniconda3/envs/cloudspace/lib/python3.10/site-packages/IPython/core/interactiveshell.py\", line 3130, in _run_cell\n",
      "    result = runner(coro)\n",
      "  File \"/home/zeus/miniconda3/envs/cloudspace/lib/python3.10/site-packages/IPython/core/async_helpers.py\", line 128, in _pseudo_sync_runner\n",
      "    coro.send(None)\n",
      "  File \"/home/zeus/miniconda3/envs/cloudspace/lib/python3.10/site-packages/IPython/core/interactiveshell.py\", line 3334, in run_cell_async\n",
      "    has_raised = await self.run_ast_nodes(code_ast.body, cell_name,\n",
      "  File \"/home/zeus/miniconda3/envs/cloudspace/lib/python3.10/site-packages/IPython/core/interactiveshell.py\", line 3517, in run_ast_nodes\n",
      "    if await self.run_code(code, result, async_=asy):\n",
      "  File \"/home/zeus/miniconda3/envs/cloudspace/lib/python3.10/site-packages/IPython/core/interactiveshell.py\", line 3577, in run_code\n",
      "    exec(code_obj, self.user_global_ns, self.user_ns)\n",
      "  File \"/tmp/ipykernel_22859/1404566745.py\", line 3, in <module>\n",
      "    result = pipe(df.Title[row])\n",
      "  File \"/home/zeus/miniconda3/envs/cloudspace/lib/python3.10/site-packages/transformers/pipelines/text_classification.py\", line 156, in __call__\n",
      "    result = super().__call__(*inputs, **kwargs)\n",
      "  File \"/home/zeus/miniconda3/envs/cloudspace/lib/python3.10/site-packages/transformers/pipelines/base.py\", line 1167, in __call__\n",
      "    logger.warning_once(\n",
      "  File \"/home/zeus/miniconda3/envs/cloudspace/lib/python3.10/site-packages/transformers/utils/logging.py\", line 329, in warning_once\n",
      "    self.warning(*args, **kwargs)\n",
      "Message: 'You seem to be using the pipelines sequentially on GPU. In order to maximize efficiency please use a dataset'\n",
      "Arguments: (<class 'UserWarning'>,)\n",
      "100%|██████████| 16431/16431 [02:29<00:00, 109.74it/s]\n"
     ]
    }
   ],
   "source": [
    "for row in tqdm(range(len(df.Title))):\n",
    "    try:\n",
    "        result = pipe(df.Title[row])\n",
    "        df.loc[row, \"SwissFinBERT_label\"] = result[0][\"label\"]\n",
    "    except:\n",
    "        pass"
   ]
  },
  {
   "cell_type": "code",
   "execution_count": 7,
   "metadata": {},
   "outputs": [
    {
     "data": {
      "text/html": [
       "<div>\n",
       "<style scoped>\n",
       "    .dataframe tbody tr th:only-of-type {\n",
       "        vertical-align: middle;\n",
       "    }\n",
       "\n",
       "    .dataframe tbody tr th {\n",
       "        vertical-align: top;\n",
       "    }\n",
       "\n",
       "    .dataframe thead th {\n",
       "        text-align: right;\n",
       "    }\n",
       "</style>\n",
       "<table border=\"1\" class=\"dataframe\">\n",
       "  <thead>\n",
       "    <tr style=\"text-align: right;\">\n",
       "      <th></th>\n",
       "      <th>Title</th>\n",
       "      <th>GPT3_5_label</th>\n",
       "      <th>SwissFinBERT_label</th>\n",
       "    </tr>\n",
       "  </thead>\n",
       "  <tbody>\n",
       "    <tr>\n",
       "      <th>0</th>\n",
       "      <td>Privatinseln: Wo Banker ihren Bonus elegant in...</td>\n",
       "      <td>HOLD</td>\n",
       "      <td>HOLD</td>\n",
       "    </tr>\n",
       "    <tr>\n",
       "      <th>1</th>\n",
       "      <td>Credit Suisse hat Lücke in der Unternehmerbank...</td>\n",
       "      <td>BUY</td>\n",
       "      <td>BUY</td>\n",
       "    </tr>\n",
       "    <tr>\n",
       "      <th>2</th>\n",
       "      <td>Weiterer Vermögensverwalter mit Finma-Lizenz -...</td>\n",
       "      <td>HOLD</td>\n",
       "      <td>BUY</td>\n",
       "    </tr>\n",
       "    <tr>\n",
       "      <th>3</th>\n",
       "      <td>Jordan: «Zentralbanken können nicht jedes Prob...</td>\n",
       "      <td>HOLD</td>\n",
       "      <td>SELL</td>\n",
       "    </tr>\n",
       "    <tr>\n",
       "      <th>4</th>\n",
       "      <td>Eklat bei BLKB-Tochter Radicant - finews.ch</td>\n",
       "      <td>SELL</td>\n",
       "      <td>SELL</td>\n",
       "    </tr>\n",
       "  </tbody>\n",
       "</table>\n",
       "</div>"
      ],
      "text/plain": [
       "                                               Title GPT3_5_label  \\\n",
       "0  Privatinseln: Wo Banker ihren Bonus elegant in...         HOLD   \n",
       "1  Credit Suisse hat Lücke in der Unternehmerbank...          BUY   \n",
       "2  Weiterer Vermögensverwalter mit Finma-Lizenz -...         HOLD   \n",
       "3  Jordan: «Zentralbanken können nicht jedes Prob...         HOLD   \n",
       "4        Eklat bei BLKB-Tochter Radicant - finews.ch         SELL   \n",
       "\n",
       "  SwissFinBERT_label  \n",
       "0               HOLD  \n",
       "1                BUY  \n",
       "2                BUY  \n",
       "3               SELL  \n",
       "4               SELL  "
      ]
     },
     "execution_count": 7,
     "metadata": {},
     "output_type": "execute_result"
    }
   ],
   "source": [
    "df.head()"
   ]
  },
  {
   "cell_type": "code",
   "execution_count": 8,
   "metadata": {},
   "outputs": [],
   "source": [
    "from transformers import pipeline\n",
    "\n",
    "sent_pipeline = pipeline(\"text-classification\", model=\"scherrmann/GermanFinBert_SC_Sentiment\", device=0)"
   ]
  },
  {
   "cell_type": "code",
   "execution_count": 9,
   "metadata": {},
   "outputs": [],
   "source": [
    "df[\"GermanFinBERT_label\"] = \"pending\""
   ]
  },
  {
   "cell_type": "code",
   "execution_count": 10,
   "metadata": {},
   "outputs": [
    {
     "name": "stderr",
     "output_type": "stream",
     "text": [
      "100%|██████████| 16431/16431 [02:05<00:00, 130.54it/s]\n"
     ]
    }
   ],
   "source": [
    "for row in tqdm(range(len(df.Title))):\n",
    "    try:\n",
    "        result = sent_pipeline(df.Title[row])\n",
    "        df.loc[row, \"GermanFinBERT_label\"] = result[0][\"label\"]\n",
    "    except:\n",
    "        pass"
   ]
  },
  {
   "cell_type": "code",
   "execution_count": 11,
   "metadata": {},
   "outputs": [],
   "source": [
    "from transformers import pipeline\n",
    "\n",
    "sent_pipeline = pipeline(\"sentiment-analysis\", model=\"oliverguhr/german-sentiment-bert\", device=0)"
   ]
  },
  {
   "cell_type": "code",
   "execution_count": 12,
   "metadata": {},
   "outputs": [],
   "source": [
    "df[\"GermanSentimentBERT_label\"] = \"pending\""
   ]
  },
  {
   "cell_type": "code",
   "execution_count": 13,
   "metadata": {},
   "outputs": [
    {
     "name": "stderr",
     "output_type": "stream",
     "text": [
      "100%|██████████| 16431/16431 [02:01<00:00, 135.33it/s]\n"
     ]
    }
   ],
   "source": [
    "for row in tqdm(range(len(df.Title))):\n",
    "    try:\n",
    "        result = sent_pipeline(df.Title[row])\n",
    "        df.loc[row, \"GermanSentimentBERT_label\"] = result[0][\"label\"]\n",
    "    except:\n",
    "        pass"
   ]
  },
  {
   "cell_type": "code",
   "execution_count": 14,
   "metadata": {},
   "outputs": [
    {
     "name": "stdout",
     "output_type": "stream",
     "text": [
      "GPT3_5_label counts:\n",
      " GPT3_5_label\n",
      "HOLD    5477\n",
      "BUY     5477\n",
      "SELL    5477\n",
      "Name: count, dtype: int64\n",
      "\n",
      "SwissFinBERT_label counts:\n",
      " SwissFinBERT_label\n",
      "SELL    5518\n",
      "HOLD    5467\n",
      "BUY     5446\n",
      "Name: count, dtype: int64\n",
      "\n",
      "GermanFinBERT_label counts:\n",
      " GermanFinBERT_label\n",
      "Neutral    13223\n",
      "Negativ     1645\n",
      "Positiv     1563\n",
      "Name: count, dtype: int64\n",
      "\n",
      "GermanSentimentBERT_label counts:\n",
      " GermanSentimentBERT_label\n",
      "neutral     13276\n",
      "negative     2617\n",
      "positive      538\n",
      "Name: count, dtype: int64\n"
     ]
    }
   ],
   "source": [
    "gpt3_5_label_counts = df['GPT3_5_label'].value_counts()\n",
    "swiss_fin_bert_label_counts = df['SwissFinBERT_label'].value_counts()\n",
    "german_fin_bert_label_counts = df['GermanFinBERT_label'].value_counts()\n",
    "german_sentiment_bert_label_counts = df['GermanSentimentBERT_label'].value_counts()\n",
    "\n",
    "print(\"GPT3_5_label counts:\\n\", gpt3_5_label_counts)\n",
    "print(\"\\nSwissFinBERT_label counts:\\n\", swiss_fin_bert_label_counts)\n",
    "print(\"\\nGermanFinBERT_label counts:\\n\", german_fin_bert_label_counts)\n",
    "print(\"\\nGermanSentimentBERT_label counts:\\n\", german_sentiment_bert_label_counts)"
   ]
  },
  {
   "cell_type": "code",
   "execution_count": 16,
   "metadata": {},
   "outputs": [
    {
     "data": {
      "text/html": [
       "<div>\n",
       "<style scoped>\n",
       "    .dataframe tbody tr th:only-of-type {\n",
       "        vertical-align: middle;\n",
       "    }\n",
       "\n",
       "    .dataframe tbody tr th {\n",
       "        vertical-align: top;\n",
       "    }\n",
       "\n",
       "    .dataframe thead th {\n",
       "        text-align: right;\n",
       "    }\n",
       "</style>\n",
       "<table border=\"1\" class=\"dataframe\">\n",
       "  <thead>\n",
       "    <tr style=\"text-align: right;\">\n",
       "      <th></th>\n",
       "      <th>Title</th>\n",
       "      <th>GPT3_5_label</th>\n",
       "      <th>SwissFinBERT_label</th>\n",
       "      <th>GermanFinBERT_label</th>\n",
       "      <th>GermanSentimentBERT_label</th>\n",
       "    </tr>\n",
       "  </thead>\n",
       "  <tbody>\n",
       "    <tr>\n",
       "      <th>0</th>\n",
       "      <td>Privatinseln: Wo Banker ihren Bonus elegant in...</td>\n",
       "      <td>1</td>\n",
       "      <td>1</td>\n",
       "      <td>1</td>\n",
       "      <td>1</td>\n",
       "    </tr>\n",
       "    <tr>\n",
       "      <th>1</th>\n",
       "      <td>Credit Suisse hat Lücke in der Unternehmerbank...</td>\n",
       "      <td>2</td>\n",
       "      <td>2</td>\n",
       "      <td>1</td>\n",
       "      <td>1</td>\n",
       "    </tr>\n",
       "    <tr>\n",
       "      <th>2</th>\n",
       "      <td>Weiterer Vermögensverwalter mit Finma-Lizenz -...</td>\n",
       "      <td>1</td>\n",
       "      <td>1</td>\n",
       "      <td>1</td>\n",
       "      <td>0</td>\n",
       "    </tr>\n",
       "    <tr>\n",
       "      <th>3</th>\n",
       "      <td>Jordan: «Zentralbanken können nicht jedes Prob...</td>\n",
       "      <td>1</td>\n",
       "      <td>1</td>\n",
       "      <td>1</td>\n",
       "      <td>1</td>\n",
       "    </tr>\n",
       "    <tr>\n",
       "      <th>4</th>\n",
       "      <td>Eklat bei BLKB-Tochter Radicant - finews.ch</td>\n",
       "      <td>0</td>\n",
       "      <td>0</td>\n",
       "      <td>1</td>\n",
       "      <td>1</td>\n",
       "    </tr>\n",
       "  </tbody>\n",
       "</table>\n",
       "</div>"
      ],
      "text/plain": [
       "                                               Title  GPT3_5_label  \\\n",
       "0  Privatinseln: Wo Banker ihren Bonus elegant in...             1   \n",
       "1  Credit Suisse hat Lücke in der Unternehmerbank...             2   \n",
       "2  Weiterer Vermögensverwalter mit Finma-Lizenz -...             1   \n",
       "3  Jordan: «Zentralbanken können nicht jedes Prob...             1   \n",
       "4        Eklat bei BLKB-Tochter Radicant - finews.ch             0   \n",
       "\n",
       "   SwissFinBERT_label  GermanFinBERT_label  GermanSentimentBERT_label  \n",
       "0                   1                    1                          1  \n",
       "1                   2                    1                          1  \n",
       "2                   1                    1                          0  \n",
       "3                   1                    1                          1  \n",
       "4                   0                    1                          1  "
      ]
     },
     "execution_count": 16,
     "metadata": {},
     "output_type": "execute_result"
    }
   ],
   "source": [
    "label_matchings = { \"BUY\" : 2, \"HOLD\" : 1, \"SELL\" : 0, \"positive\" : 2, \"neutral\" : 1, \"negative\" : 0, \"pending\" : 1, \"Negativ\" : 0, \"Neutral\" : 1, \"Positiv\" : 2}\n",
    "\n",
    "df[\"GermanSentimentBERT_label\"] = df[\"GermanSentimentBERT_label\"].map(label_matchings)\n",
    "df[\"GermanFinBERT_label\"] = df[\"GermanFinBERT_label\"].map(label_matchings)\n",
    "#df[\"FinBERT_label\"] = df[\"FinBERT_label\"].map(label_matchings)\n",
    "df[\"GPT3_5_label\"] = df[\"GPT3_5_label\"].map(label_matchings)\n",
    "#df[\"Gemini_label\"] = df[\"Gemini_label\"].map(label_matchings)\n",
    "df[\"SwissFinBERT_label\"] = df[\"SwissFinBERT_label\"].map(label_matchings)\n",
    "\n",
    "df.head()"
   ]
  },
  {
   "cell_type": "code",
   "execution_count": 17,
   "metadata": {},
   "outputs": [
    {
     "name": "stdout",
     "output_type": "stream",
     "text": [
      "SwissFinBERT Accuracy: 0.8662284705739152\n",
      "SwissFinBERT F1 Score: 0.8661890086565933\n",
      "SwissFinBERT Precision: 0.8661630180498723\n",
      "SwissFinBERT Recall: 0.8662284705739152\n",
      "GermanFinBERT Accuracy: 0.47945955815227315\n",
      "GermanFinBERT F1 Score: 0.43841002635002585\n",
      "GermanFinBERT Precision: 0.6900440248156885\n",
      "GermanFinBERT Recall: 0.47945955815227315\n",
      "GermanSentimentBERT Accuracy: 0.3277950216055018\n",
      "GermanSentimentBERT F1 Score: 0.25057184326910587\n",
      "GermanSentimentBERT Precision: 0.3494742401281821\n",
      "GermanSentimentBERT Recall: 0.3277950216055018\n"
     ]
    }
   ],
   "source": [
    "from sklearn.metrics import accuracy_score, f1_score, precision_score, recall_score\n",
    "\n",
    "# Calculate metrics for SwissFinBERT\n",
    "swiss_fin_bert_accuracy = accuracy_score(df[\"GPT3_5_label\"], df[\"SwissFinBERT_label\"])\n",
    "swiss_fin_bert_f1 = f1_score(df[\"GPT3_5_label\"], df[\"SwissFinBERT_label\"], average=\"weighted\")\n",
    "swiss_fin_bert_precision = precision_score(df[\"GPT3_5_label\"], df[\"SwissFinBERT_label\"], average=\"weighted\")\n",
    "swiss_fin_bert_recall = recall_score(df[\"GPT3_5_label\"], df[\"SwissFinBERT_label\"], average=\"weighted\")\n",
    "\n",
    "# Calculate metrics for GermanFinBERT\n",
    "german_fin_bert_accuracy = accuracy_score(df[\"GPT3_5_label\"], df[\"GermanFinBERT_label\"])\n",
    "german_fin_bert_f1 = f1_score(df[\"GPT3_5_label\"], df[\"GermanFinBERT_label\"], average=\"weighted\")\n",
    "german_fin_bert_precision = precision_score(df[\"GPT3_5_label\"], df[\"GermanFinBERT_label\"], average=\"weighted\")\n",
    "german_fin_bert_recall = recall_score(df[\"GPT3_5_label\"], df[\"GermanFinBERT_label\"], average=\"weighted\")\n",
    "\n",
    "# Calculate metrics for GermanSentimentBERT\n",
    "german_sentiment_bert_accuracy = accuracy_score(df[\"GPT3_5_label\"], df[\"GermanSentimentBERT_label\"])\n",
    "german_sentiment_bert_f1 = f1_score(df[\"GPT3_5_label\"], df[\"GermanSentimentBERT_label\"], average=\"weighted\")\n",
    "german_sentiment_bert_precision = precision_score(df[\"GPT3_5_label\"], df[\"GermanSentimentBERT_label\"], average=\"weighted\")\n",
    "german_sentiment_bert_recall = recall_score(df[\"GPT3_5_label\"], df[\"GermanSentimentBERT_label\"], average=\"weighted\")\n",
    "\n",
    "# Print metrics\n",
    "print(\"SwissFinBERT Accuracy:\", swiss_fin_bert_accuracy)\n",
    "print(\"SwissFinBERT F1 Score:\", swiss_fin_bert_f1)\n",
    "print(\"SwissFinBERT Precision:\", swiss_fin_bert_precision)\n",
    "print(\"SwissFinBERT Recall:\", swiss_fin_bert_recall)\n",
    "\n",
    "print(\"GermanFinBERT Accuracy:\", german_fin_bert_accuracy)\n",
    "print(\"GermanFinBERT F1 Score:\", german_fin_bert_f1)\n",
    "print(\"GermanFinBERT Precision:\", german_fin_bert_precision)\n",
    "print(\"GermanFinBERT Recall:\", german_fin_bert_recall)\n",
    "\n",
    "print(\"GermanSentimentBERT Accuracy:\", german_sentiment_bert_accuracy)\n",
    "print(\"GermanSentimentBERT F1 Score:\", german_sentiment_bert_f1)\n",
    "print(\"GermanSentimentBERT Precision:\", german_sentiment_bert_precision)\n",
    "print(\"GermanSentimentBERT Recall:\", german_sentiment_bert_recall)\n"
   ]
  },
  {
   "cell_type": "code",
   "execution_count": 18,
   "metadata": {},
   "outputs": [
    {
     "data": {
      "text/html": [
       "<div>\n",
       "<style scoped>\n",
       "    .dataframe tbody tr th:only-of-type {\n",
       "        vertical-align: middle;\n",
       "    }\n",
       "\n",
       "    .dataframe tbody tr th {\n",
       "        vertical-align: top;\n",
       "    }\n",
       "\n",
       "    .dataframe thead th {\n",
       "        text-align: right;\n",
       "    }\n",
       "</style>\n",
       "<table border=\"1\" class=\"dataframe\">\n",
       "  <thead>\n",
       "    <tr style=\"text-align: right;\">\n",
       "      <th></th>\n",
       "      <th>SwissFinBERT</th>\n",
       "      <th>GermanFinBERT</th>\n",
       "      <th>GermanSentimentBERT</th>\n",
       "    </tr>\n",
       "  </thead>\n",
       "  <tbody>\n",
       "    <tr>\n",
       "      <th>Accuracy</th>\n",
       "      <td>0.866228</td>\n",
       "      <td>0.479460</td>\n",
       "      <td>0.327795</td>\n",
       "    </tr>\n",
       "    <tr>\n",
       "      <th>F1 Score</th>\n",
       "      <td>0.866189</td>\n",
       "      <td>0.438410</td>\n",
       "      <td>0.250572</td>\n",
       "    </tr>\n",
       "    <tr>\n",
       "      <th>Precision</th>\n",
       "      <td>0.866163</td>\n",
       "      <td>0.690044</td>\n",
       "      <td>0.349474</td>\n",
       "    </tr>\n",
       "    <tr>\n",
       "      <th>Recall</th>\n",
       "      <td>0.866228</td>\n",
       "      <td>0.479460</td>\n",
       "      <td>0.327795</td>\n",
       "    </tr>\n",
       "  </tbody>\n",
       "</table>\n",
       "</div>"
      ],
      "text/plain": [
       "           SwissFinBERT  GermanFinBERT  GermanSentimentBERT\n",
       "Accuracy       0.866228       0.479460             0.327795\n",
       "F1 Score       0.866189       0.438410             0.250572\n",
       "Precision      0.866163       0.690044             0.349474\n",
       "Recall         0.866228       0.479460             0.327795"
      ]
     },
     "execution_count": 18,
     "metadata": {},
     "output_type": "execute_result"
    }
   ],
   "source": [
    "# Create the initial DataFrame\n",
    "figures_df = pd.DataFrame({\n",
    "    \"SwissFinBERT\": [swiss_fin_bert_accuracy, swiss_fin_bert_f1, swiss_fin_bert_precision, swiss_fin_bert_recall],\n",
    "    \"GermanFinBERT\": [german_fin_bert_accuracy, german_fin_bert_f1, german_fin_bert_precision, german_fin_bert_recall],\n",
    "    \"GermanSentimentBERT\": [german_sentiment_bert_accuracy, german_sentiment_bert_f1, german_sentiment_bert_precision, german_sentiment_bert_recall]\n",
    "})\n",
    "\n",
    "figures_df.index = [\"Accuracy\", \"F1 Score\", \"Precision\", \"Recall\"]\n",
    "figures_df"
   ]
  },
  {
   "cell_type": "code",
   "execution_count": 19,
   "metadata": {},
   "outputs": [],
   "source": [
    "figures_df.to_excel(\"model_performance_figures_v2.xlsx\", index=False)"
   ]
  },
  {
   "cell_type": "markdown",
   "metadata": {},
   "source": [
    "### Financial Phrasebank Test"
   ]
  },
  {
   "cell_type": "code",
   "execution_count": 2,
   "metadata": {},
   "outputs": [],
   "source": [
    "from datasets import load_dataset\n",
    "\n",
    "ds = load_dataset(\"scherrmann/financial_phrasebank_75agree_german\")"
   ]
  },
  {
   "cell_type": "code",
   "execution_count": 3,
   "metadata": {},
   "outputs": [
    {
     "name": "stdout",
     "output_type": "stream",
     "text": [
      "                                            sentence  label\n",
      "0  ``Die rasch steigenden Kosten und die Stärkung...      0\n",
      "1  Die finnische nationale Fluggesellschaft gab a...      0\n",
      "2  Der Betriebsgewinn fiel von EUR 7,9 Mio. im zw...      0\n",
      "3  Der Gewinn für den Berichtszeitraum betrug 10,...      0\n",
      "4  Raute meldete für das erste Halbjahr 2009 eine...      0\n",
      "                                            sentence  label\n",
      "0  Stora Enso Oyj sagte, das Ergebnis des zweiten...      0\n",
      "1  Kleinanleger haben die Befürchtung geäußert, d...      0\n",
      "2  ``Diese Unsicherheiten trüben die langfristige...      0\n",
      "3  Die verschärfte Wettbewerbssituation auf dem M...      0\n",
      "4  Der Betriebsgewinn in der ersten Hälfte betrug...      0\n",
      "                                            sentence  label\n",
      "0  Im letzten Quartal 2010 verdoppelte sich der N...      2\n",
      "1  Der Abonnentenstamm von MegaFon stieg 2009 um ...      2\n",
      "2  Der litauische Biermarkt machte im Januar 14,4...      2\n",
      "3  Die Provisionseinnahmen stiegen um 22 % auf 4,...      2\n",
      "4  Im Januar-September 2010 stieg der Nettogewinn...      2\n"
     ]
    }
   ],
   "source": [
    "train_df = ds['train'].to_pandas()\n",
    "validation_df = ds['validation'].to_pandas()\n",
    "test_df = ds['test'].to_pandas()\n",
    "\n",
    "print(train_df.head())\n",
    "print(validation_df.head())\n",
    "print(test_df.head())"
   ]
  },
  {
   "cell_type": "code",
   "execution_count": 4,
   "metadata": {},
   "outputs": [
    {
     "name": "stdout",
     "output_type": "stream",
     "text": [
      "                                            sentence  label\n",
      "0  ``Die rasch steigenden Kosten und die Stärkung...      0\n",
      "1  Die finnische nationale Fluggesellschaft gab a...      0\n",
      "2  Der Betriebsgewinn fiel von EUR 7,9 Mio. im zw...      0\n",
      "3  Der Gewinn für den Berichtszeitraum betrug 10,...      0\n",
      "4  Raute meldete für das erste Halbjahr 2009 eine...      0\n"
     ]
    }
   ],
   "source": [
    "# Merge the datasets\n",
    "df = pd.concat([train_df, validation_df, test_df], ignore_index=True)\n",
    "\n",
    "# Display the merged dataset\n",
    "print(df.head())\n"
   ]
  },
  {
   "cell_type": "code",
   "execution_count": 5,
   "metadata": {},
   "outputs": [],
   "source": [
    "# Use a pipeline as a high-level helper\n",
    "from transformers import pipeline\n",
    "\n",
    "pipe = pipeline(\"text-classification\", model=\"AlGatone21/SwissFinBERT_v7\", device=0)\n",
    "pipe2 = pipeline(\"text-classification\", model=\"scherrmann/GermanFinBert_SC_Sentiment\", device=0)\n",
    "pipe3 = pipeline(\"sentiment-analysis\", model=\"oliverguhr/german-sentiment-bert\", device=0)"
   ]
  },
  {
   "cell_type": "code",
   "execution_count": 6,
   "metadata": {},
   "outputs": [],
   "source": [
    "df[\"SwissFinBERT_label\"] = \"pending\"\n",
    "df[\"GermanFinBERT_label\"] = \"pending\"\n",
    "df[\"GermanSentimentBERT_label\"] = \"pending\""
   ]
  },
  {
   "cell_type": "code",
   "execution_count": 7,
   "metadata": {},
   "outputs": [
    {
     "name": "stderr",
     "output_type": "stream",
     "text": [
      "  0%|          | 10/3453 [00:00<02:32, 22.64it/s]--- Logging error ---\n",
      "Traceback (most recent call last):\n",
      "  File \"/home/zeus/miniconda3/envs/cloudspace/lib/python3.10/logging/__init__.py\", line 1100, in emit\n",
      "    msg = self.format(record)\n",
      "  File \"/home/zeus/miniconda3/envs/cloudspace/lib/python3.10/logging/__init__.py\", line 943, in format\n",
      "    return fmt.format(record)\n",
      "  File \"/home/zeus/miniconda3/envs/cloudspace/lib/python3.10/logging/__init__.py\", line 678, in format\n",
      "    record.message = record.getMessage()\n",
      "  File \"/home/zeus/miniconda3/envs/cloudspace/lib/python3.10/logging/__init__.py\", line 368, in getMessage\n",
      "    msg = msg % self.args\n",
      "TypeError: not all arguments converted during string formatting\n",
      "Call stack:\n",
      "  File \"/home/zeus/miniconda3/envs/cloudspace/lib/python3.10/runpy.py\", line 196, in _run_module_as_main\n",
      "    return _run_code(code, main_globals, None,\n",
      "  File \"/home/zeus/miniconda3/envs/cloudspace/lib/python3.10/runpy.py\", line 86, in _run_code\n",
      "    exec(code, run_globals)\n",
      "  File \"/home/zeus/miniconda3/envs/cloudspace/lib/python3.10/site-packages/ipykernel_launcher.py\", line 18, in <module>\n",
      "    app.launch_new_instance()\n",
      "  File \"/home/zeus/miniconda3/envs/cloudspace/lib/python3.10/site-packages/traitlets/config/application.py\", line 1075, in launch_instance\n",
      "    app.start()\n",
      "  File \"/home/zeus/miniconda3/envs/cloudspace/lib/python3.10/site-packages/ipykernel/kernelapp.py\", line 739, in start\n",
      "    self.io_loop.start()\n",
      "  File \"/home/zeus/miniconda3/envs/cloudspace/lib/python3.10/site-packages/tornado/platform/asyncio.py\", line 205, in start\n",
      "    self.asyncio_loop.run_forever()\n",
      "  File \"/home/zeus/miniconda3/envs/cloudspace/lib/python3.10/asyncio/base_events.py\", line 603, in run_forever\n",
      "    self._run_once()\n",
      "  File \"/home/zeus/miniconda3/envs/cloudspace/lib/python3.10/asyncio/base_events.py\", line 1909, in _run_once\n",
      "    handle._run()\n",
      "  File \"/home/zeus/miniconda3/envs/cloudspace/lib/python3.10/asyncio/events.py\", line 80, in _run\n",
      "    self._context.run(self._callback, *self._args)\n",
      "  File \"/home/zeus/miniconda3/envs/cloudspace/lib/python3.10/site-packages/ipykernel/kernelbase.py\", line 545, in dispatch_queue\n",
      "    await self.process_one()\n",
      "  File \"/home/zeus/miniconda3/envs/cloudspace/lib/python3.10/site-packages/ipykernel/kernelbase.py\", line 534, in process_one\n",
      "    await dispatch(*args)\n",
      "  File \"/home/zeus/miniconda3/envs/cloudspace/lib/python3.10/site-packages/ipykernel/kernelbase.py\", line 437, in dispatch_shell\n",
      "    await result\n",
      "  File \"/home/zeus/miniconda3/envs/cloudspace/lib/python3.10/site-packages/ipykernel/ipkernel.py\", line 362, in execute_request\n",
      "    await super().execute_request(stream, ident, parent)\n",
      "  File \"/home/zeus/miniconda3/envs/cloudspace/lib/python3.10/site-packages/ipykernel/kernelbase.py\", line 778, in execute_request\n",
      "    reply_content = await reply_content\n",
      "  File \"/home/zeus/miniconda3/envs/cloudspace/lib/python3.10/site-packages/ipykernel/ipkernel.py\", line 449, in do_execute\n",
      "    res = shell.run_cell(\n",
      "  File \"/home/zeus/miniconda3/envs/cloudspace/lib/python3.10/site-packages/ipykernel/zmqshell.py\", line 549, in run_cell\n",
      "    return super().run_cell(*args, **kwargs)\n",
      "  File \"/home/zeus/miniconda3/envs/cloudspace/lib/python3.10/site-packages/IPython/core/interactiveshell.py\", line 3075, in run_cell\n",
      "    result = self._run_cell(\n",
      "  File \"/home/zeus/miniconda3/envs/cloudspace/lib/python3.10/site-packages/IPython/core/interactiveshell.py\", line 3130, in _run_cell\n",
      "    result = runner(coro)\n",
      "  File \"/home/zeus/miniconda3/envs/cloudspace/lib/python3.10/site-packages/IPython/core/async_helpers.py\", line 128, in _pseudo_sync_runner\n",
      "    coro.send(None)\n",
      "  File \"/home/zeus/miniconda3/envs/cloudspace/lib/python3.10/site-packages/IPython/core/interactiveshell.py\", line 3334, in run_cell_async\n",
      "    has_raised = await self.run_ast_nodes(code_ast.body, cell_name,\n",
      "  File \"/home/zeus/miniconda3/envs/cloudspace/lib/python3.10/site-packages/IPython/core/interactiveshell.py\", line 3517, in run_ast_nodes\n",
      "    if await self.run_code(code, result, async_=asy):\n",
      "  File \"/home/zeus/miniconda3/envs/cloudspace/lib/python3.10/site-packages/IPython/core/interactiveshell.py\", line 3577, in run_code\n",
      "    exec(code_obj, self.user_global_ns, self.user_ns)\n",
      "  File \"/tmp/ipykernel_27109/2373674532.py\", line 3, in <module>\n",
      "    result = pipe(df.sentence[row])\n",
      "  File \"/home/zeus/miniconda3/envs/cloudspace/lib/python3.10/site-packages/transformers/pipelines/text_classification.py\", line 156, in __call__\n",
      "    result = super().__call__(*inputs, **kwargs)\n",
      "  File \"/home/zeus/miniconda3/envs/cloudspace/lib/python3.10/site-packages/transformers/pipelines/base.py\", line 1167, in __call__\n",
      "    logger.warning_once(\n",
      "  File \"/home/zeus/miniconda3/envs/cloudspace/lib/python3.10/site-packages/transformers/utils/logging.py\", line 329, in warning_once\n",
      "    self.warning(*args, **kwargs)\n",
      "Message: 'You seem to be using the pipelines sequentially on GPU. In order to maximize efficiency please use a dataset'\n",
      "Arguments: (<class 'UserWarning'>,)\n",
      "100%|██████████| 3453/3453 [01:26<00:00, 39.95it/s]\n"
     ]
    }
   ],
   "source": [
    "for row in tqdm(range(len(df.sentence))):\n",
    "    try:\n",
    "        result = pipe(df.sentence[row])\n",
    "        result2 = pipe2(df.sentence[row])\n",
    "        result3 = pipe3(df.sentence[row])\n",
    "        df.loc[row, \"SwissFinBERT_label\"] = result[0][\"label\"]\n",
    "        df.loc[row, \"GermanFinBERT_label\"] = result2[0][\"label\"]\n",
    "        df.loc[row, \"GermanSentimentBERT_label\"] = result3[0][\"label\"]\n",
    "    except:\n",
    "        pass"
   ]
  },
  {
   "cell_type": "code",
   "execution_count": 8,
   "metadata": {},
   "outputs": [],
   "source": [
    "df.to_excel(\"financial_phrasebank_75agree_german_labelled_v2.xlsx\", index=False)"
   ]
  },
  {
   "cell_type": "code",
   "execution_count": 2,
   "metadata": {},
   "outputs": [],
   "source": [
    "df = pd.read_excel(\"financial_phrasebank_75agree_german_labelled_v2.xlsx\")"
   ]
  },
  {
   "cell_type": "code",
   "execution_count": null,
   "metadata": {},
   "outputs": [],
   "source": [
    "client = OpenAI(api_key=\"insert your api key here\")"
   ]
  },
  {
   "cell_type": "code",
   "execution_count": 6,
   "metadata": {},
   "outputs": [
    {
     "data": {
      "text/plain": [
       "3453"
      ]
     },
     "execution_count": 6,
     "metadata": {},
     "output_type": "execute_result"
    }
   ],
   "source": [
    "df[\"GPT3_5_label\"] = \"pending\""
   ]
  },
  {
   "cell_type": "code",
   "execution_count": 7,
   "metadata": {},
   "outputs": [
    {
     "name": "stderr",
     "output_type": "stream",
     "text": [
      "100%|██████████| 3453/3453 [20:25<00:00,  2.82it/s] \n"
     ]
    }
   ],
   "source": [
    "for i in tqdm(range(len(df.sentence))):\n",
    "    if df.GPT3_5_label[i] == \"pending\":\n",
    "        \n",
    "        try:\n",
    "            role = \"\"\"\n",
    "                You are a helpful financial analyst. I will provide you with a financial news article title in german and I want you to read it and give me your sentiment about it.\n",
    "                    \"\"\"\n",
    "\n",
    "            instruction= \"\"\"\n",
    "            I will provide you with a financial news article titles in german and I want you to read it and give me your sentiment about it. You should\n",
    "            express if the provided information is positive, negative or neutral for the swiss stock market. If you think that the information is positive\n",
    "            and the stock market will likely go up, I want your answer be BUY. If you think that the information is negative and the stock market will likely go down,\n",
    "            I want your answer be SELL. If you think that the information is neutral and the stock market will likely stay the same, I want your answer be HOLD.\n",
    "            In the case the information is not really relevant for the stock market, I want your answer to be HOLD.\n",
    "\n",
    "            I'am going to use this information to cluster the news articles and construct a weekly sentiment index for the swiss stock market.\n",
    "\n",
    "            I want your answer be exacly one of the following options, just one word, dont add anything else:\n",
    "\n",
    "            BUY, HOLD, SELL\n",
    "                        \"\"\"\n",
    "\n",
    "            article_text = df.sentence[i]\n",
    "            completion = client.chat.completions.create(\n",
    "            model=\"gpt-3.5-turbo-0125\",\n",
    "            max_tokens=2,\n",
    "            temperature=0.0,\n",
    "            messages=[{\"role\": \"system\", \"content\": role},{\"role\": \"user\", \"content\": instruction+\" \"+article_text}])\n",
    "            if completion.choices[0].message.content in [\"BUY\", \"SELL\", \"HOLD\", \"Sell\", \"Buy\", \"Hold\", \"buy\", \"sell\", \"hold\"]:\n",
    "                df.loc[i, \"GPT3_5_label\"] = completion.choices[0].message.content\n",
    "        except:\n",
    "            pass"
   ]
  },
  {
   "cell_type": "code",
   "execution_count": 9,
   "metadata": {},
   "outputs": [],
   "source": [
    "df[\"Gemini_label\"] = \"pending\""
   ]
  },
  {
   "cell_type": "code",
   "execution_count": null,
   "metadata": {},
   "outputs": [
    {
     "name": "stderr",
     "output_type": "stream",
     "text": [
      "100%|██████████| 3453/3453 [1:15:24<00:00,  1.31s/it]\n"
     ]
    }
   ],
   "source": [
    "import google.generativeai as genai\n",
    "\n",
    "genai.configure(api_key='insert your api key here')\n",
    "\n",
    "generation_config = {\n",
    "  \"temperature\": 0,\n",
    "  \"top_p\": 1,\n",
    "  \"top_k\": 1,\n",
    "  \"max_output_tokens\": 2,\n",
    "}\n",
    "\n",
    "model = genai.GenerativeModel(model_name=\"gemini-1.0-pro\", generation_config=generation_config,)\n",
    "\n",
    "\n",
    "role = \"\"\"\n",
    "You are a helpful financial analyst. I will provide you with a financial news article title in german and I want you to read it and give me your sentiment about it.\n",
    "        \"\"\"\n",
    "instruction= \"\"\"\n",
    "            I will provide you with a financial news article titles in german and I want you to read it and give me your sentiment about it. You should\n",
    "            express if the provided information is positive, negative or neutral for the swiss stock market. If you think that the information is positive\n",
    "            and the stock market will likely go up, I want your answer be BUY. If you think that the information is negative and the stock market will likely go down,\n",
    "            I want your answer be SELL. If you think that the information is neutral and the stock market will likely stay the same, I want your answer be HOLD.\n",
    "            In the case the information is not really relevant for the stock market, I want your answer to be HOLD.\n",
    "\n",
    "            I'am going to use this information to cluster the news articles and construct a weekly sentiment index for the swiss stock market.\n",
    "\n",
    "            I want your answer be exacly one of the following options, just one word, dont add anything else:\n",
    "\n",
    "            BUY, HOLD, SELL\n",
    "            \"\"\"\n",
    "\n",
    "for i in tqdm(range(len(df.Gemini_label))):\n",
    "    if df.Gemini_label[i] == \"pending\":\n",
    "        try:  \n",
    "          article_text = df.sentence[i]\n",
    "          response = model.generate_content(f'{role} \\n {instruction}\\n{article_text}')\n",
    "          if response.text in [\"BUY\", \"SELL\", \"HOLD\", \"Sell\", \"Buy\", \"Hold\", \"buy\", \"sell\", \"hold\"]:\n",
    "              df.loc[i, \"Gemini_label\"] = response.text\n",
    "        except:\n",
    "            pass"
   ]
  },
  {
   "cell_type": "code",
   "execution_count": 11,
   "metadata": {},
   "outputs": [],
   "source": [
    "df.to_excel(\"financial_phrasebank_75agree_german_labelled_v4.xlsx\", index=False)"
   ]
  },
  {
   "cell_type": "code",
   "execution_count": 12,
   "metadata": {},
   "outputs": [],
   "source": [
    "df = pd.read_excel(\"financial_phrasebank_75agree_german_labelled_v4.xlsx\")"
   ]
  },
  {
   "cell_type": "code",
   "execution_count": 13,
   "metadata": {},
   "outputs": [
    {
     "data": {
      "text/html": [
       "<div>\n",
       "<style scoped>\n",
       "    .dataframe tbody tr th:only-of-type {\n",
       "        vertical-align: middle;\n",
       "    }\n",
       "\n",
       "    .dataframe tbody tr th {\n",
       "        vertical-align: top;\n",
       "    }\n",
       "\n",
       "    .dataframe thead th {\n",
       "        text-align: right;\n",
       "    }\n",
       "</style>\n",
       "<table border=\"1\" class=\"dataframe\">\n",
       "  <thead>\n",
       "    <tr style=\"text-align: right;\">\n",
       "      <th></th>\n",
       "      <th>sentence</th>\n",
       "      <th>label</th>\n",
       "      <th>SwissFinBERT_label</th>\n",
       "      <th>GermanFinBERT_label</th>\n",
       "      <th>GermanSentimentBERT_label</th>\n",
       "      <th>GPT3_5_label</th>\n",
       "      <th>Gemini_label</th>\n",
       "    </tr>\n",
       "  </thead>\n",
       "  <tbody>\n",
       "    <tr>\n",
       "      <th>0</th>\n",
       "      <td>``Die rasch steigenden Kosten und die Stärkung...</td>\n",
       "      <td>0</td>\n",
       "      <td>0</td>\n",
       "      <td>0</td>\n",
       "      <td>1</td>\n",
       "      <td>0</td>\n",
       "      <td>0</td>\n",
       "    </tr>\n",
       "    <tr>\n",
       "      <th>1</th>\n",
       "      <td>Die finnische nationale Fluggesellschaft gab a...</td>\n",
       "      <td>0</td>\n",
       "      <td>0</td>\n",
       "      <td>0</td>\n",
       "      <td>1</td>\n",
       "      <td>0</td>\n",
       "      <td>1</td>\n",
       "    </tr>\n",
       "    <tr>\n",
       "      <th>2</th>\n",
       "      <td>Der Betriebsgewinn fiel von EUR 7,9 Mio. im zw...</td>\n",
       "      <td>0</td>\n",
       "      <td>0</td>\n",
       "      <td>0</td>\n",
       "      <td>1</td>\n",
       "      <td>0</td>\n",
       "      <td>0</td>\n",
       "    </tr>\n",
       "    <tr>\n",
       "      <th>3</th>\n",
       "      <td>Der Gewinn für den Berichtszeitraum betrug 10,...</td>\n",
       "      <td>0</td>\n",
       "      <td>0</td>\n",
       "      <td>0</td>\n",
       "      <td>1</td>\n",
       "      <td>0</td>\n",
       "      <td>0</td>\n",
       "    </tr>\n",
       "    <tr>\n",
       "      <th>4</th>\n",
       "      <td>Raute meldete für das erste Halbjahr 2009 eine...</td>\n",
       "      <td>0</td>\n",
       "      <td>0</td>\n",
       "      <td>0</td>\n",
       "      <td>1</td>\n",
       "      <td>0</td>\n",
       "      <td>0</td>\n",
       "    </tr>\n",
       "  </tbody>\n",
       "</table>\n",
       "</div>"
      ],
      "text/plain": [
       "                                            sentence  label  \\\n",
       "0  ``Die rasch steigenden Kosten und die Stärkung...      0   \n",
       "1  Die finnische nationale Fluggesellschaft gab a...      0   \n",
       "2  Der Betriebsgewinn fiel von EUR 7,9 Mio. im zw...      0   \n",
       "3  Der Gewinn für den Berichtszeitraum betrug 10,...      0   \n",
       "4  Raute meldete für das erste Halbjahr 2009 eine...      0   \n",
       "\n",
       "   SwissFinBERT_label  GermanFinBERT_label  GermanSentimentBERT_label  \\\n",
       "0                   0                    0                          1   \n",
       "1                   0                    0                          1   \n",
       "2                   0                    0                          1   \n",
       "3                   0                    0                          1   \n",
       "4                   0                    0                          1   \n",
       "\n",
       "   GPT3_5_label  Gemini_label  \n",
       "0             0             0  \n",
       "1             0             1  \n",
       "2             0             0  \n",
       "3             0             0  \n",
       "4             0             0  "
      ]
     },
     "execution_count": 13,
     "metadata": {},
     "output_type": "execute_result"
    }
   ],
   "source": [
    "label_matchings = { \"BUY\" : 2, \"HOLD\" : 1, \"SELL\" : 0, \"positive\" : 2, \"neutral\" : 1, \"negative\" : 0, \"pending\" : 1, \"Negativ\" : 0, \"Neutral\" : 1, \"Positiv\" : 2}\n",
    "\n",
    "df[\"GermanSentimentBERT_label\"] = df[\"GermanSentimentBERT_label\"].map(label_matchings)\n",
    "df[\"GermanFinBERT_label\"] = df[\"GermanFinBERT_label\"].map(label_matchings)\n",
    "df[\"SwissFinBERT_label\"] = df[\"SwissFinBERT_label\"].map(label_matchings)\n",
    "df[\"GPT3_5_label\"] = df[\"GPT3_5_label\"].map(label_matchings)\n",
    "df[\"Gemini_label\"] = df[\"Gemini_label\"].map(label_matchings)\n",
    "\n",
    "df.head()"
   ]
  },
  {
   "cell_type": "code",
   "execution_count": 14,
   "metadata": {},
   "outputs": [
    {
     "name": "stdout",
     "output_type": "stream",
     "text": [
      "SwissFinBERT Accuracy: 0.93454966695627\n",
      "SwissFinBERT F1 Score: 0.9358803821881395\n",
      "SwissFinBERT Precision: 0.9439808292759859\n",
      "SwissFinBERT Recall: 0.93454966695627\n",
      "GermanFinBERT Accuracy: 0.9875470605270779\n",
      "GermanFinBERT F1 Score: 0.9875403899990871\n",
      "GermanFinBERT Precision: 0.9875562340799042\n",
      "GermanFinBERT Recall: 0.9875470605270779\n",
      "GermanSentimentBERT Accuracy: 0.6162757022878657\n",
      "GermanSentimentBERT F1 Score: 0.4810987145609384\n",
      "GermanSentimentBERT Precision: 0.5351492442435485\n",
      "GermanSentimentBERT Recall: 0.6162757022878657\n",
      "Gemini Accuracy: 0.7242977121343759\n",
      "Gemini F1 Score: 0.6645724141291002\n",
      "Gemini Precision: 0.8039742865266588\n",
      "Gemini Recall: 0.7242977121343759\n",
      "GPT-3.5 Accuracy: 0.8447726614538082\n",
      "GPT-3.5 F1 Score: 0.8451061797842169\n",
      "GPT-3.5 Precision: 0.8519160538376228\n",
      "GPT-3.5 Recall: 0.8447726614538082\n"
     ]
    }
   ],
   "source": [
    "from sklearn.metrics import accuracy_score, f1_score, precision_score, recall_score\n",
    "\n",
    "# Calculate metrics for SwissFinBERT\n",
    "swiss_fin_bert_accuracy = accuracy_score(df[\"label\"], df[\"SwissFinBERT_label\"])\n",
    "swiss_fin_bert_f1 = f1_score(df[\"label\"], df[\"SwissFinBERT_label\"], average=\"weighted\")\n",
    "swiss_fin_bert_precision = precision_score(df[\"label\"], df[\"SwissFinBERT_label\"], average=\"weighted\")\n",
    "swiss_fin_bert_recall = recall_score(df[\"label\"], df[\"SwissFinBERT_label\"], average=\"weighted\")\n",
    "\n",
    "# Calculate metrics for GermanFinBERT\n",
    "german_fin_bert_accuracy = accuracy_score(df[\"label\"], df[\"GermanFinBERT_label\"])\n",
    "german_fin_bert_f1 = f1_score(df[\"label\"], df[\"GermanFinBERT_label\"], average=\"weighted\")\n",
    "german_fin_bert_precision = precision_score(df[\"label\"], df[\"GermanFinBERT_label\"], average=\"weighted\")\n",
    "german_fin_bert_recall = recall_score(df[\"label\"], df[\"GermanFinBERT_label\"], average=\"weighted\")\n",
    "\n",
    "# Calculate metrics for GermanSentimentBERT\n",
    "german_sentiment_bert_accuracy = accuracy_score(df[\"label\"], df[\"GermanSentimentBERT_label\"])\n",
    "german_sentiment_bert_f1 = f1_score(df[\"label\"], df[\"GermanSentimentBERT_label\"], average=\"weighted\")\n",
    "german_sentiment_bert_precision = precision_score(df[\"label\"], df[\"GermanSentimentBERT_label\"], average=\"weighted\")\n",
    "german_sentiment_bert_recall = recall_score(df[\"label\"], df[\"GermanSentimentBERT_label\"], average=\"weighted\")\n",
    "\n",
    "# Calculate metrics for Gemini\n",
    "gemini_accuracy = accuracy_score(df[\"label\"], df[\"Gemini_label\"])\n",
    "gemini_f1 = f1_score(df[\"label\"], df[\"Gemini_label\"], average=\"weighted\")\n",
    "gemini_precision = precision_score(df[\"label\"], df[\"Gemini_label\"], average=\"weighted\")\n",
    "gemini_recall = recall_score(df[\"label\"], df[\"Gemini_label\"], average=\"weighted\")\n",
    "\n",
    "# Calculate metrics for GPT-3.5\n",
    "gpt3_5_accuracy = accuracy_score(df[\"label\"], df[\"GPT3_5_label\"])\n",
    "gpt3_5_f1 = f1_score(df[\"label\"], df[\"GPT3_5_label\"], average=\"weighted\")\n",
    "gpt3_5_precision = precision_score(df[\"label\"], df[\"GPT3_5_label\"], average=\"weighted\")\n",
    "gpt3_5_recall = recall_score(df[\"label\"], df[\"GPT3_5_label\"], average=\"weighted\")\n",
    "\n",
    "# Print metrics\n",
    "print(\"SwissFinBERT Accuracy:\", swiss_fin_bert_accuracy)\n",
    "print(\"SwissFinBERT F1 Score:\", swiss_fin_bert_f1)\n",
    "print(\"SwissFinBERT Precision:\", swiss_fin_bert_precision)\n",
    "print(\"SwissFinBERT Recall:\", swiss_fin_bert_recall)\n",
    "\n",
    "print(\"GermanFinBERT Accuracy:\", german_fin_bert_accuracy)\n",
    "print(\"GermanFinBERT F1 Score:\", german_fin_bert_f1)\n",
    "print(\"GermanFinBERT Precision:\", german_fin_bert_precision)\n",
    "print(\"GermanFinBERT Recall:\", german_fin_bert_recall)\n",
    "\n",
    "print(\"GermanSentimentBERT Accuracy:\", german_sentiment_bert_accuracy)\n",
    "print(\"GermanSentimentBERT F1 Score:\", german_sentiment_bert_f1)\n",
    "print(\"GermanSentimentBERT Precision:\", german_sentiment_bert_precision)\n",
    "print(\"GermanSentimentBERT Recall:\", german_sentiment_bert_recall)\n",
    "\n",
    "print(\"Gemini Accuracy:\", gemini_accuracy)\n",
    "print(\"Gemini F1 Score:\", gemini_f1)\n",
    "print(\"Gemini Precision:\", gemini_precision)\n",
    "print(\"Gemini Recall:\", gemini_recall)\n",
    "\n",
    "print(\"GPT-3.5 Accuracy:\", gpt3_5_accuracy)\n",
    "print(\"GPT-3.5 F1 Score:\", gpt3_5_f1)\n",
    "print(\"GPT-3.5 Precision:\", gpt3_5_precision)\n",
    "print(\"GPT-3.5 Recall:\", gpt3_5_recall)\n"
   ]
  },
  {
   "cell_type": "code",
   "execution_count": 16,
   "metadata": {},
   "outputs": [
    {
     "data": {
      "text/html": [
       "<div>\n",
       "<style scoped>\n",
       "    .dataframe tbody tr th:only-of-type {\n",
       "        vertical-align: middle;\n",
       "    }\n",
       "\n",
       "    .dataframe tbody tr th {\n",
       "        vertical-align: top;\n",
       "    }\n",
       "\n",
       "    .dataframe thead th {\n",
       "        text-align: right;\n",
       "    }\n",
       "</style>\n",
       "<table border=\"1\" class=\"dataframe\">\n",
       "  <thead>\n",
       "    <tr style=\"text-align: right;\">\n",
       "      <th></th>\n",
       "      <th>SwissFinBERT</th>\n",
       "      <th>GermanFinBERT</th>\n",
       "      <th>GermanSentimentBERT</th>\n",
       "      <th>Gemini</th>\n",
       "      <th>GPT-3.5</th>\n",
       "    </tr>\n",
       "  </thead>\n",
       "  <tbody>\n",
       "    <tr>\n",
       "      <th>Accuracy</th>\n",
       "      <td>0.934550</td>\n",
       "      <td>0.987547</td>\n",
       "      <td>0.616276</td>\n",
       "      <td>0.724298</td>\n",
       "      <td>0.844773</td>\n",
       "    </tr>\n",
       "    <tr>\n",
       "      <th>F1 Score</th>\n",
       "      <td>0.935880</td>\n",
       "      <td>0.987540</td>\n",
       "      <td>0.481099</td>\n",
       "      <td>0.664572</td>\n",
       "      <td>0.845106</td>\n",
       "    </tr>\n",
       "    <tr>\n",
       "      <th>Precision</th>\n",
       "      <td>0.943981</td>\n",
       "      <td>0.987556</td>\n",
       "      <td>0.535149</td>\n",
       "      <td>0.803974</td>\n",
       "      <td>0.851916</td>\n",
       "    </tr>\n",
       "    <tr>\n",
       "      <th>Recall</th>\n",
       "      <td>0.934550</td>\n",
       "      <td>0.987547</td>\n",
       "      <td>0.616276</td>\n",
       "      <td>0.724298</td>\n",
       "      <td>0.844773</td>\n",
       "    </tr>\n",
       "  </tbody>\n",
       "</table>\n",
       "</div>"
      ],
      "text/plain": [
       "           SwissFinBERT  GermanFinBERT  GermanSentimentBERT    Gemini  \\\n",
       "Accuracy       0.934550       0.987547             0.616276  0.724298   \n",
       "F1 Score       0.935880       0.987540             0.481099  0.664572   \n",
       "Precision      0.943981       0.987556             0.535149  0.803974   \n",
       "Recall         0.934550       0.987547             0.616276  0.724298   \n",
       "\n",
       "            GPT-3.5  \n",
       "Accuracy   0.844773  \n",
       "F1 Score   0.845106  \n",
       "Precision  0.851916  \n",
       "Recall     0.844773  "
      ]
     },
     "execution_count": 16,
     "metadata": {},
     "output_type": "execute_result"
    }
   ],
   "source": [
    "# Create the initial DataFrame\n",
    "figures2_df = pd.DataFrame({\n",
    "    \"SwissFinBERT\": [swiss_fin_bert_accuracy, swiss_fin_bert_f1, swiss_fin_bert_precision, swiss_fin_bert_recall],\n",
    "    \"GermanFinBERT\": [german_fin_bert_accuracy, german_fin_bert_f1, german_fin_bert_precision, german_fin_bert_recall],\n",
    "    \"GermanSentimentBERT\": [german_sentiment_bert_accuracy, german_sentiment_bert_f1, german_sentiment_bert_precision, german_sentiment_bert_recall],\n",
    "    \"Gemini\": [gemini_accuracy, gemini_f1, gemini_precision, gemini_recall],\n",
    "    \"GPT-3.5\": [gpt3_5_accuracy, gpt3_5_f1, gpt3_5_precision, gpt3_5_recall]\n",
    "})\n",
    "\n",
    "figures2_df.index = [\"Accuracy\", \"F1 Score\", \"Precision\", \"Recall\"]\n",
    "figures2_df"
   ]
  },
  {
   "cell_type": "code",
   "execution_count": 17,
   "metadata": {},
   "outputs": [],
   "source": [
    "figures2_df.to_excel(\"model_performance_figures2_v3.xlsx\", index=False)"
   ]
  }
 ],
 "metadata": {
  "kernelspec": {
   "display_name": "cloudspace",
   "language": "python",
   "name": "python3"
  },
  "language_info": {
   "codemirror_mode": {
    "name": "ipython",
    "version": 3
   },
   "file_extension": ".py",
   "mimetype": "text/x-python",
   "name": "python",
   "nbconvert_exporter": "python",
   "pygments_lexer": "ipython3",
   "version": "3.10.15"
  }
 },
 "nbformat": 4,
 "nbformat_minor": 2
}
