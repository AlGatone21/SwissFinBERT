{
 "cells": [
  {
   "cell_type": "code",
   "execution_count": 2,
   "metadata": {},
   "outputs": [],
   "source": [
    "import pandas as pd\n",
    "from tqdm import tqdm\n",
    "\n",
    "from selenium import webdriver\n",
    "from selenium.webdriver.support.ui import WebDriverWait\n",
    "from selenium.webdriver.common.by import By\n",
    "from selenium.webdriver.support import expected_conditions as EC\n",
    "\n",
    "import time\n",
    "import random"
   ]
  },
  {
   "cell_type": "code",
   "execution_count": null,
   "metadata": {},
   "outputs": [],
   "source": [
    "# random article to strart with\n",
    "url = \"https://news.google.com/rss/articles/CBMiImh0dHBzOi8vd3d3LmZ1dy5jaC9hcnRpY2xlL2FsdHdlZ2fSAQA?oc=5&hl=en-US&gl=US&ceid=US:en\""
   ]
  },
  {
   "cell_type": "code",
   "execution_count": null,
   "metadata": {},
   "outputs": [],
   "source": [
    "email = \"insert email here\""
   ]
  },
  {
   "cell_type": "code",
   "execution_count": null,
   "metadata": {},
   "outputs": [],
   "source": [
    "password = \"insert password here\""
   ]
  },
  {
   "cell_type": "code",
   "execution_count": null,
   "metadata": {},
   "outputs": [],
   "source": [
    "df = pd.read_excel(\"fuw_v7.xlsx\") # read dataframe with the links to the articles"
   ]
  },
  {
   "cell_type": "code",
   "execution_count": 6,
   "metadata": {},
   "outputs": [],
   "source": [
    "### Open the browser and go to the website and login\n",
    "\n",
    "options = webdriver.ChromeOptions()\n",
    "\n",
    "\n",
    "driver = webdriver.Chrome(options=options)\n",
    "driver.get(url)\n",
    "WebDriverWait(driver, 10).until(EC.element_to_be_clickable((By.XPATH, '//*[@class=\"VfPpkd-LgbsSe VfPpkd-LgbsSe-OWXEXe-k8QpJ VfPpkd-LgbsSe-OWXEXe-dgl2Hf nCP5yc AjY5Oe DuMIQc LQeN7 XWZjwc\"]'))).click()  # google cookies\n",
    "WebDriverWait(driver, 10).until(EC.element_to_be_clickable((By.XPATH, '//*[@id=\"onetrust-accept-btn-handler\"]'))).click() # Accept Cookies\n",
    "driver.maximize_window()\n",
    "WebDriverWait(driver, 10).until(EC.element_to_be_clickable((By.XPATH, '//*[@class=\"NavigationUser_loginbutton__6tRT_\"]'))).click() # Login section\n",
    "input_box = driver.find_element(By.XPATH, '//*[@class=\"sc-bmzYkS fYzbum\"]')  # replace 'input_box' with the actual ID of the input box\n",
    "input_box.clear()\n",
    "input_box.send_keys(email)\n",
    "WebDriverWait(driver, 10).until(EC.element_to_be_clickable((By.XPATH, '//*[@id=\"first-step-continue-btn\"]'))).click()\n",
    "time.sleep(1)\n",
    "input_box2 = driver.find_element(By.XPATH, '//*[@class=\"sc-bmzYkS fYzbum\"]')  # replace 'input_box' with the actual ID of the input box\n",
    "input_box2.clear()\n",
    "input_box2.send_keys(password)\n",
    "WebDriverWait(driver, 10).until(EC.element_to_be_clickable((By.XPATH, '//*[@id=\"native-login-btn\"]'))).click()\n",
    "#manually login"
   ]
  },
  {
   "cell_type": "code",
   "execution_count": 8,
   "metadata": {},
   "outputs": [
    {
     "name": "stderr",
     "output_type": "stream",
     "text": [
      "  0%|          | 0/6829 [00:00<?, ?it/s]"
     ]
    },
    {
     "name": "stderr",
     "output_type": "stream",
     "text": [
      "100%|██████████| 6829/6829 [00:42<00:00, 162.28it/s]\n"
     ]
    }
   ],
   "source": [
    "# start the scraping loop\n",
    "for i in tqdm(range(len(df))):\n",
    "    if df[\"Text\"][i] == \"pending\":\n",
    "        try: \n",
    "            driver.execute_script(\"window.open('about:blank', '_blank');\") # open a new tab\n",
    "            driver.switch_to.window(driver.window_handles[1]) # switch to the new tab\n",
    "\n",
    "            driver.get(df[\"URL\"][i]) # open the new url\n",
    "\n",
    "            # Switch back to the first tab\n",
    "            driver.switch_to.window(driver.window_handles[0])\n",
    "\n",
    "            # Close the first tab\n",
    "            driver.close()\n",
    "\n",
    "            # Switch back to the second tab (which is now the only tab)\n",
    "            driver.switch_to.window(driver.window_handles[0])\n",
    "\n",
    "            # Wait until some text is present in the element\n",
    "            WebDriverWait(driver, 10).until(EC.presence_of_element_located((By.CLASS_NAME, \"HtmlText_root__A1OSq\")))\n",
    "\n",
    "            time.sleep(1)\n",
    "\n",
    "            #find and store the text\n",
    "            elements = driver.find_elements(By.CLASS_NAME, \"HtmlText_root__A1OSq\")  # get all elements with the class name \"HtmlText_root__A1OSq\"\n",
    "            texts = \" \\n\".join([element.text for element in elements])\n",
    "            df.loc[i, \"Text\"] = texts\n",
    "            time.sleep(1/10)        \n",
    "        except:\n",
    "            pass\n",
    "\n",
    "#driver.quit()\n",
    "\n"
   ]
  },
  {
   "cell_type": "code",
   "execution_count": 9,
   "metadata": {},
   "outputs": [],
   "source": [
    "df.to_excel(\"fuw_v7.xlsx\", index=False)"
   ]
  }
 ],
 "metadata": {
  "kernelspec": {
   "display_name": "base",
   "language": "python",
   "name": "python3"
  },
  "language_info": {
   "codemirror_mode": {
    "name": "ipython",
    "version": 3
   },
   "file_extension": ".py",
   "mimetype": "text/x-python",
   "name": "python",
   "nbconvert_exporter": "python",
   "pygments_lexer": "ipython3",
   "version": "3.11.7"
  }
 },
 "nbformat": 4,
 "nbformat_minor": 2
}
