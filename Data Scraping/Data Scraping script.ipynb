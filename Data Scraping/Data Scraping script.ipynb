{
 "cells": [
  {
   "cell_type": "markdown",
   "metadata": {},
   "source": [
    "## Master Thesis Data Collection\n",
    "\n",
    "Alessio Gattoni \n",
    "\n",
    "alessio.gattoni@student.unisg.ch"
   ]
  },
  {
   "cell_type": "code",
   "execution_count": null,
   "metadata": {},
   "outputs": [],
   "source": [
    "#import all the necessary packages to scrape the data\n",
    "\n",
    "from gnews import GNews \n",
    "from tqdm import tqdm\n",
    "import pandas as pd\n",
    "from datetime import datetime\n",
    "from newspaper import Article\n",
    "import time"
   ]
  },
  {
   "cell_type": "code",
   "execution_count": null,
   "metadata": {},
   "outputs": [],
   "source": [
    "#sample the artlicle links using the GNews package\n",
    "\n",
    "# loop through the various news sources and get the articles\n",
    "# the gnews package is facing some issues lately, the number of articles returned is not as extensive as it used to be\n",
    "\n",
    "df = [] \n",
    "for year in tqdm(range(2020, 2024)):\n",
    "    for month in range(1, 13):\n",
    "        if month == 2:\n",
    "            last = 28\n",
    "        elif month in [4, 6, 9, 11]:\n",
    "            last = 30\n",
    "        else:\n",
    "            last = 31\n",
    "        google_news = GNews(start_date=(year, month, 1), end_date=(year, month, 15))\n",
    "        response = GNews.get_news_by_site(google_news, site =\"nzz.ch/wirtschaft\")\n",
    "        print(len(response))\n",
    "        for r in response:\n",
    "            df.append(r)  \n",
    "        google_news = GNews(start_date=(year, month, 16), end_date=(year, month, last))\n",
    "        response = GNews.get_news_by_site(google_news, site =\"nzz.ch/wirtschaft\")\n",
    "        print(len(response))\n",
    "        for r in response:\n",
    "            df.append(r)"
   ]
  },
  {
   "cell_type": "code",
   "execution_count": null,
   "metadata": {},
   "outputs": [],
   "source": [
    "len(df)"
   ]
  },
  {
   "cell_type": "code",
   "execution_count": null,
   "metadata": {},
   "outputs": [],
   "source": [
    "# organize the dataframe\n",
    "\n",
    "url_data = []\n",
    "for i in range(0,len(df)):\n",
    "    url_data.append(df[i][\"url\"])\n",
    "    \n",
    "title_data = []\n",
    "for i in range(0,len(df)):\n",
    "    title_data.append(df[i][\"title\"])\n",
    "    \n",
    "published_date_data = []\n",
    "for i in range(0,len(df)):\n",
    "    date_string = df[i][\"published date\"]\n",
    "    date_format = \"%a, %d %b %Y %H:%M:%S %Z\"\n",
    "    date_object = datetime.strptime(date_string, date_format)\n",
    "    new_date_format = \"%d/%m/%Y\"\n",
    "    new_date = date_object.strftime(new_date_format)\n",
    "    date_object = datetime.strptime(new_date, new_date_format)\n",
    "    published_date_data.append(date_object)\n",
    "\n",
    "publisher_data = []\n",
    "for i in range(0,len(df)):\n",
    "    publisher_data.append(df[i][\"publisher\"][\"title\"])\n",
    "\n",
    "df = pd.DataFrame({\"Title\": title_data, \"URL\" : url_data, \"Date\" : published_date_data, \"Publisher\" : publisher_data})"
   ]
  },
  {
   "cell_type": "code",
   "execution_count": null,
   "metadata": {},
   "outputs": [],
   "source": [
    "df"
   ]
  },
  {
   "cell_type": "code",
   "execution_count": null,
   "metadata": {},
   "outputs": [],
   "source": [
    "# Extract whole text using the newspaper3k package\n",
    "\n",
    "text_list = []\n",
    "for i in tqdm(range(0, len(df))):\n",
    "    article = Article(df[\"URL\"][i])\n",
    "    try:\n",
    "        article.download()\n",
    "        article.parse()\n",
    "        text = article.text\n",
    "        text_list.append(text)\n",
    "    except:\n",
    "        text_list.append(\"not_found\")\n",
    "\n",
    "\n",
    "df[\"Text\"] = text_list"
   ]
  },
  {
   "cell_type": "code",
   "execution_count": null,
   "metadata": {},
   "outputs": [],
   "source": [
    "df.to_excel(\"nzz_v1.xlsx\", index=False) #save the data in excel file\n",
    "\n",
    "#merge tha various sources in one dataframe in a separate file"
   ]
  }
 ],
 "metadata": {
  "kernelspec": {
   "display_name": "base",
   "language": "python",
   "name": "python3"
  },
  "language_info": {
   "codemirror_mode": {
    "name": "ipython",
    "version": 3
   },
   "file_extension": ".py",
   "mimetype": "text/x-python",
   "name": "python",
   "nbconvert_exporter": "python",
   "pygments_lexer": "ipython3",
   "version": "3.11.7"
  }
 },
 "nbformat": 4,
 "nbformat_minor": 2
}
